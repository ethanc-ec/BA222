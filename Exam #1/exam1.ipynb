{
 "cells": [
  {
   "cell_type": "code",
   "execution_count": 63,
   "metadata": {},
   "outputs": [],
   "source": [
    "import pandas as pd\n",
    "import numpy as np\n",
    "import matplotlib.pyplot as plt"
   ]
  },
  {
   "cell_type": "code",
   "execution_count": 64,
   "metadata": {},
   "outputs": [
    {
     "data": {
      "text/html": [
       "<div>\n",
       "<style scoped>\n",
       "    .dataframe tbody tr th:only-of-type {\n",
       "        vertical-align: middle;\n",
       "    }\n",
       "\n",
       "    .dataframe tbody tr th {\n",
       "        vertical-align: top;\n",
       "    }\n",
       "\n",
       "    .dataframe thead th {\n",
       "        text-align: right;\n",
       "    }\n",
       "</style>\n",
       "<table border=\"1\" class=\"dataframe\">\n",
       "  <thead>\n",
       "    <tr style=\"text-align: right;\">\n",
       "      <th></th>\n",
       "      <th>Region</th>\n",
       "      <th>Country</th>\n",
       "      <th>Item Type</th>\n",
       "      <th>Sales Channel</th>\n",
       "      <th>Total Revenue</th>\n",
       "      <th>Total Cost</th>\n",
       "      <th>Total Profit</th>\n",
       "    </tr>\n",
       "  </thead>\n",
       "  <tbody>\n",
       "    <tr>\n",
       "      <th>0</th>\n",
       "      <td>Middle East and North Africa</td>\n",
       "      <td>Morocco</td>\n",
       "      <td>Clothes</td>\n",
       "      <td>Online</td>\n",
       "      <td>503890.08</td>\n",
       "      <td>165258.24</td>\n",
       "      <td>338631.84</td>\n",
       "    </tr>\n",
       "    <tr>\n",
       "      <th>1</th>\n",
       "      <td>Australia and Oceania</td>\n",
       "      <td>Papua New Guinea</td>\n",
       "      <td>Meat</td>\n",
       "      <td>Offline</td>\n",
       "      <td>151880.40</td>\n",
       "      <td>131288.40</td>\n",
       "      <td>20592.00</td>\n",
       "    </tr>\n",
       "    <tr>\n",
       "      <th>2</th>\n",
       "      <td>Sub-Saharan Africa</td>\n",
       "      <td>Djibouti</td>\n",
       "      <td>Clothes</td>\n",
       "      <td>Offline</td>\n",
       "      <td>61415.36</td>\n",
       "      <td>20142.08</td>\n",
       "      <td>41273.28</td>\n",
       "    </tr>\n",
       "    <tr>\n",
       "      <th>3</th>\n",
       "      <td>Europe</td>\n",
       "      <td>Slovakia</td>\n",
       "      <td>Beverages</td>\n",
       "      <td>Offline</td>\n",
       "      <td>188518.85</td>\n",
       "      <td>126301.67</td>\n",
       "      <td>62217.18</td>\n",
       "    </tr>\n",
       "    <tr>\n",
       "      <th>4</th>\n",
       "      <td>Asia</td>\n",
       "      <td>Sri Lanka</td>\n",
       "      <td>Fruits</td>\n",
       "      <td>Online</td>\n",
       "      <td>12866.07</td>\n",
       "      <td>9542.68</td>\n",
       "      <td>3323.39</td>\n",
       "    </tr>\n",
       "  </tbody>\n",
       "</table>\n",
       "</div>"
      ],
      "text/plain": [
       "                         Region           Country  Item Type Sales Channel  \\\n",
       "0  Middle East and North Africa           Morocco    Clothes        Online   \n",
       "1         Australia and Oceania  Papua New Guinea       Meat       Offline   \n",
       "2            Sub-Saharan Africa          Djibouti    Clothes       Offline   \n",
       "3                        Europe          Slovakia  Beverages       Offline   \n",
       "4                          Asia         Sri Lanka     Fruits        Online   \n",
       "\n",
       "   Total Revenue  Total Cost  Total Profit  \n",
       "0      503890.08   165258.24     338631.84  \n",
       "1      151880.40   131288.40      20592.00  \n",
       "2       61415.36    20142.08      41273.28  \n",
       "3      188518.85   126301.67      62217.18  \n",
       "4       12866.07     9542.68       3323.39  "
      ]
     },
     "execution_count": 64,
     "metadata": {},
     "output_type": "execute_result"
    }
   ],
   "source": [
    "df = pd.read_csv('SalesSmall.csv')\n",
    "df.head()"
   ]
  },
  {
   "cell_type": "code",
   "execution_count": 65,
   "metadata": {},
   "outputs": [
    {
     "name": "stdout",
     "output_type": "stream",
     "text": [
      "1,100,000.00\n"
     ]
    }
   ],
   "source": [
    "t = df.shape\n",
    "print(f'{t[0]:,.2f}')"
   ]
  },
  {
   "cell_type": "code",
   "execution_count": 66,
   "metadata": {},
   "outputs": [
    {
     "name": "stdout",
     "output_type": "stream",
     "text": [
      "Unit Cost\n"
     ]
    }
   ],
   "source": [
    "t = df.columns\n",
    "\n",
    "for i in ['Unit Cost', 'Region', 'Country', 'Total Revenue']:\n",
    "    if i not in t:\n",
    "        print(i)\n",
    "        break"
   ]
  },
  {
   "cell_type": "code",
   "execution_count": 67,
   "metadata": {},
   "outputs": [
    {
     "name": "stdout",
     "output_type": "stream",
     "text": [
      "South America\n"
     ]
    }
   ],
   "source": [
    "t = df['Region'].unique()\n",
    "\n",
    "for i in ['Sub-Saharan Africa', 'North America', 'South America', 'Europe']:\n",
    "    if i not in t:\n",
    "        print(i)\n",
    "        break"
   ]
  },
  {
   "cell_type": "code",
   "execution_count": 68,
   "metadata": {},
   "outputs": [
    {
     "name": "stdout",
     "output_type": "stream",
     "text": [
      "240,300.61\n"
     ]
    }
   ],
   "source": [
    "t = df[(df['Item Type'] == 'Beverages') | (df['Item Type'] == 'Snacks')]['Total Cost'].median()\n",
    "\n",
    "print(f'{t:,.2f}')"
   ]
  },
  {
   "cell_type": "code",
   "execution_count": 69,
   "metadata": {},
   "outputs": [
    {
     "name": "stdout",
     "output_type": "stream",
     "text": [
      "1,159,422.36\n"
     ]
    }
   ],
   "source": [
    "t = df[df['Country'] == 'Singapore']['Total Cost'].std()\n",
    "print(f'{t:,.2f}')"
   ]
  },
  {
   "cell_type": "code",
   "execution_count": 70,
   "metadata": {},
   "outputs": [
    {
     "name": "stdout",
     "output_type": "stream",
     "text": [
      "500.00\n"
     ]
    }
   ],
   "source": [
    "t = df[(df['Country'] == 'France') & (df['Item Type'] == 'Clothes')].shape\n",
    "print(f'{t[0]:,.2f}')"
   ]
  },
  {
   "cell_type": "code",
   "execution_count": 71,
   "metadata": {},
   "outputs": [
    {
     "data": {
      "text/html": [
       "<div>\n",
       "<style scoped>\n",
       "    .dataframe tbody tr th:only-of-type {\n",
       "        vertical-align: middle;\n",
       "    }\n",
       "\n",
       "    .dataframe tbody tr th {\n",
       "        vertical-align: top;\n",
       "    }\n",
       "\n",
       "    .dataframe thead th {\n",
       "        text-align: right;\n",
       "    }\n",
       "</style>\n",
       "<table border=\"1\" class=\"dataframe\">\n",
       "  <thead>\n",
       "    <tr style=\"text-align: right;\">\n",
       "      <th></th>\n",
       "      <th>Total Cost</th>\n",
       "    </tr>\n",
       "    <tr>\n",
       "      <th>Region</th>\n",
       "      <th></th>\n",
       "    </tr>\n",
       "  </thead>\n",
       "  <tbody>\n",
       "    <tr>\n",
       "      <th>North America</th>\n",
       "      <td>943555.882027</td>\n",
       "    </tr>\n",
       "    <tr>\n",
       "      <th>Australia and Oceania</th>\n",
       "      <td>939685.700760</td>\n",
       "    </tr>\n",
       "    <tr>\n",
       "      <th>Central America and the Caribbean</th>\n",
       "      <td>937973.445482</td>\n",
       "    </tr>\n",
       "    <tr>\n",
       "      <th>Middle East and North Africa</th>\n",
       "      <td>937933.303911</td>\n",
       "    </tr>\n",
       "    <tr>\n",
       "      <th>Sub-Saharan Africa</th>\n",
       "      <td>936975.429214</td>\n",
       "    </tr>\n",
       "    <tr>\n",
       "      <th>Asia</th>\n",
       "      <td>936958.669410</td>\n",
       "    </tr>\n",
       "    <tr>\n",
       "      <th>Europe</th>\n",
       "      <td>936020.569622</td>\n",
       "    </tr>\n",
       "  </tbody>\n",
       "</table>\n",
       "</div>"
      ],
      "text/plain": [
       "                                      Total Cost\n",
       "Region                                          \n",
       "North America                      943555.882027\n",
       "Australia and Oceania              939685.700760\n",
       "Central America and the Caribbean  937973.445482\n",
       "Middle East and North Africa       937933.303911\n",
       "Sub-Saharan Africa                 936975.429214\n",
       "Asia                               936958.669410\n",
       "Europe                             936020.569622"
      ]
     },
     "metadata": {},
     "output_type": "display_data"
    },
    {
     "name": "stdout",
     "output_type": "stream",
     "text": [
      "Total Cost    943555.882027\n",
      "Name: North America, dtype: float64\n"
     ]
    }
   ],
   "source": [
    "t = df[['Region', 'Total Cost']].groupby('Region').mean().sort_values(by='Total Cost', ascending=False)\n",
    "display(t)\n",
    "print(f'{t.loc[t.idxmax()[0]]}')"
   ]
  },
  {
   "cell_type": "code",
   "execution_count": null,
   "metadata": {},
   "outputs": [],
   "source": []
  }
 ],
 "metadata": {
  "kernelspec": {
   "display_name": "Python 3",
   "language": "python",
   "name": "python3"
  },
  "language_info": {
   "codemirror_mode": {
    "name": "ipython",
    "version": 3
   },
   "file_extension": ".py",
   "mimetype": "text/x-python",
   "name": "python",
   "nbconvert_exporter": "python",
   "pygments_lexer": "ipython3",
   "version": "3.10.11"
  }
 },
 "nbformat": 4,
 "nbformat_minor": 2
}
