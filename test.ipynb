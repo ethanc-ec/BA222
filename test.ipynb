{
 "cells": [
  {
   "cell_type": "code",
   "execution_count": 8,
   "metadata": {},
   "outputs": [],
   "source": [
    "import numpy as np"
   ]
  },
  {
   "cell_type": "code",
   "execution_count": 9,
   "metadata": {},
   "outputs": [
    {
     "name": "stdout",
     "output_type": "stream",
     "text": [
      "range:  16\n",
      "var:  37.2\n",
      "std:  6.099180272790763\n"
     ]
    }
   ],
   "source": [
    "a = [36, 48, 42, 32, 38]\n",
    "\n",
    "print('range: ', max(a) - min(a))\n",
    "print('var: ', sum((x - np.mean(a))**2 for x in a) / (len(a) - 1))\n",
    "print('std: ', np.std(a, ddof=1))"
   ]
  },
  {
   "cell_type": "code",
   "execution_count": 10,
   "metadata": {},
   "outputs": [
    {
     "name": "stdout",
     "output_type": "stream",
     "text": [
      "range:  99\n",
      "var:  1943.2777777777778\n",
      "std:  44.08262444294552\n"
     ]
    }
   ],
   "source": [
    "a = [100, 3, 6, 98, 80, 7, 5, 10, 1]\n",
    "\n",
    "print('range: ', max(a) - min(a))\n",
    "print('var: ', sum((x - np.mean(a))**2 for x in a) / (len(a) - 1))\n",
    "print('std: ', np.std(a, ddof=1))"
   ]
  },
  {
   "cell_type": "code",
   "execution_count": 11,
   "metadata": {},
   "outputs": [
    {
     "name": "stdout",
     "output_type": "stream",
     "text": [
      "range:  99\n",
      "var:  1322.5\n",
      "std:  36.36619309193636\n"
     ]
    }
   ],
   "source": [
    "a = [100, 3, 6, 40, 80, 40, 44, 1]\n",
    "print('range: ', max(a) - min(a))\n",
    "print('var: ', sum((x - np.mean(a))**2 for x in a) / (len(a) - 1))\n",
    "print('std: ', np.std(a, ddof=1))"
   ]
  },
  {
   "cell_type": "code",
   "execution_count": null,
   "metadata": {},
   "outputs": [],
   "source": []
  }
 ],
 "metadata": {
  "kernelspec": {
   "display_name": "Python 3",
   "language": "python",
   "name": "python3"
  },
  "language_info": {
   "codemirror_mode": {
    "name": "ipython",
    "version": 3
   },
   "file_extension": ".py",
   "mimetype": "text/x-python",
   "name": "python",
   "nbconvert_exporter": "python",
   "pygments_lexer": "ipython3",
   "version": "3.11.1"
  },
  "orig_nbformat": 4
 },
 "nbformat": 4,
 "nbformat_minor": 2
}
