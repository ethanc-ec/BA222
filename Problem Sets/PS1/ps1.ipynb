{
 "cells": [
  {
   "cell_type": "markdown",
   "metadata": {},
   "source": [
    "1. Describe the data. What does each observation correspond to? How many\n",
    "variables are there? How many observations are there? What different\n",
    "types of variables do we observe? You do not need to be exhaustive, but\n",
    "write a few complete sentences.\n",
    "\n",
    "Each observation corresponds to a different property sale in NYC, and each property is described by 21 variables. There are a total of 84548 observations/properties. \n",
    "\n",
    "~ Answer types of variables"
   ]
  },
  {
   "cell_type": "markdown",
   "metadata": {},
   "source": [
    "2. What is the mean of the Year Built column? Look at the Year Built column. What are the minimum and maximum values? Do these seem reasonable? Sort your data by year built, and delete all 0 values. What is the mean of the remaining data? (Bonus: As an advanced move, there are many ways of looking at the mean of nonzero values without sorting or modifying the data.)\n",
    "\n"
   ]
  },
  {
   "cell_type": "markdown",
   "metadata": {},
   "source": [
    "3. Using the COUNTIF function, count how many observations in the Zip\n",
    "Code column are from zip code “10011”.\n",
    "Look at a map of New York City on google maps. Where is zip code\n",
    "10011?"
   ]
  },
  {
   "cell_type": "markdown",
   "metadata": {},
   "source": [
    "4. What is the sum of the recorded sale prices? Format this value in a cell\n",
    "with commas and no decimal places. Why are some sales prices 0? Read\n",
    "the data glossary to find out.\n"
   ]
  },
  {
   "cell_type": "markdown",
   "metadata": {},
   "source": [
    "5. Consider the total units column. What are the median number of units\n",
    "in a sale? What is the standard deviation of the number of units? What\n",
    "do you think this tells us about the distribution of the number of units?\n",
    "Write a sentence telling us about the distribution.\n"
   ]
  },
  {
   "cell_type": "markdown",
   "metadata": {},
   "source": [
    "6. Now, plot a histogram of the number of the Total Units column. Give the\n",
    "histogram useful labels (X axis title, Y axis title, graph title)"
   ]
  },
  {
   "cell_type": "markdown",
   "metadata": {},
   "source": [
    "7. How many commercial units were sold? How many total units were sold?\n",
    "What fraction of the total units sold were commercial units?"
   ]
  }
 ],
 "metadata": {
  "kernelspec": {
   "display_name": "Python 3",
   "language": "python",
   "name": "python3"
  },
  "language_info": {
   "codemirror_mode": {
    "name": "ipython",
    "version": 3
   },
   "file_extension": ".py",
   "mimetype": "text/x-python",
   "name": "python",
   "nbconvert_exporter": "python",
   "pygments_lexer": "ipython3",
   "version": "3.11.1"
  },
  "orig_nbformat": 4
 },
 "nbformat": 4,
 "nbformat_minor": 2
}
