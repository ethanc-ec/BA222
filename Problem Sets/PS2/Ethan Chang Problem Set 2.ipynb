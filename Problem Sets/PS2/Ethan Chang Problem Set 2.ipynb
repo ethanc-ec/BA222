{
 "cells": [
  {
   "cell_type": "markdown",
   "metadata": {},
   "source": [
    "# BA222 Problem Set 2\n",
    "Ethan Chang"
   ]
  },
  {
   "cell_type": "code",
   "execution_count": 1,
   "metadata": {},
   "outputs": [],
   "source": [
    "import pathlib\n",
    "import numpy as np\n",
    "import numpy.typing as npt\n",
    "from typing import Any\n",
    "import pandas as pd\n",
    "import matplotlib.pyplot as plt"
   ]
  },
  {
   "cell_type": "markdown",
   "metadata": {},
   "source": [
    "#### Notes for Professor Leder-Luis\n",
    "\n",
    "I use type hinting quite a lot in my homework and believe that it may be beneficial for you to include it while teaching as it allows students to see the inputs and outputs. Additionally, it may help students understand the code better as it is more explicit and find errors more easily.\n",
    "\n",
    "Type hinting was added in Python 3.5 as a part of [`PEP 484`](https://peps.python.org/pep-0484/) so everyone should be able to run it without any issues. \n",
    "\n",
    "Example of type hinting:\n",
    "\n",
    "```python\n",
    "def add(a: int, b: int) -> int:\n",
    "    return a + b\n",
    "```"
   ]
  },
  {
   "cell_type": "markdown",
   "metadata": {},
   "source": [
    "\n",
    "Another addition that may be helped would be to add variable annotations as a part of [`PEP 526`](https://www.python.org/dev/peps/pep-0526/) and Python 3.6 which would mainly be helpful if you split up your code into multiple cells or lines. For example:\n",
    "\n",
    "```python\n",
    "df: pd.Dataframe = pd.read_csv('data.csv')\n",
    "ser: pd.Series = df['column']\n",
    "# etc.\n",
    "```"
   ]
  },
  {
   "cell_type": "markdown",
   "metadata": {},
   "source": [
    "--- \n",
    "\n",
    "## Part 1: Python Basics"
   ]
  },
  {
   "cell_type": "markdown",
   "metadata": {},
   "source": [
    "### Question 1: Compound Interest Calculator"
   ]
  },
  {
   "cell_type": "code",
   "execution_count": 2,
   "metadata": {},
   "outputs": [],
   "source": [
    "# Question 1.a\n",
    "\n",
    "def compound(K: float, r: float, T: float) -> float:\n",
    "    \"\"\" Returns the dollar value of money (including the principal `K`), \n",
    "        that will be had at the end of `T` years using rate `r`\"\"\"\n",
    "    return round(K * (1 + r) ** T, 2)\n",
    "\n",
    "assert(compound(1000, 0.05, 10) == 1628.89)\n",
    "assert(compound(100, 0.04, 20) == 219.11)"
   ]
  },
  {
   "cell_type": "code",
   "execution_count": 3,
   "metadata": {},
   "outputs": [
    {
     "name": "stdout",
     "output_type": "stream",
     "text": [
      "$2,500 compounding for 25 years at a 6% interest rate is better\n"
     ]
    }
   ],
   "source": [
    "# Question 1.b\n",
    "\n",
    "if compound(5000, 0.06, 10) > compound(2500, 0.06, 25):\n",
    "    print(\"$5,000 compounding for 10 years at a 6% interest rate is better\")\n",
    "else:\n",
    "    print(\"$2,500 compounding for 25 years at a 6% interest rate is better\")"
   ]
  },
  {
   "cell_type": "markdown",
   "metadata": {},
   "source": [
    "### Question 2: Checking First and Last"
   ]
  },
  {
   "cell_type": "code",
   "execution_count": 4,
   "metadata": {},
   "outputs": [],
   "source": [
    "def first_last_same(arr: list) -> bool:\n",
    "    \"\"\" Returns True if the first and last elements of `arr` are the same \"\"\"\n",
    "    return arr[0] == arr[-1]\n",
    "\n",
    "assert(first_last_same([1, 0, 1]) == True)\n",
    "assert(first_last_same([10, 9, 8, 7, 6]) == False)"
   ]
  },
  {
   "cell_type": "markdown",
   "metadata": {},
   "source": [
    "--- \n",
    "## Part 2: Numpy and Pandas"
   ]
  },
  {
   "cell_type": "markdown",
   "metadata": {},
   "source": [
    "### Question 3: Numpy Simulation and Drop-Shipping Business"
   ]
  },
  {
   "cell_type": "code",
   "execution_count": 5,
   "metadata": {},
   "outputs": [],
   "source": [
    "# Question 3.b-d\n",
    "obs_price: np.ndarray = np.random.normal(20, 2, 1000)\n",
    "obs_quant: np.ndarray = np.random.randint(100, 201, 1000)\n",
    "obs_unit_cost: np.ndarray = np.random.normal(3, 0.5, 1000)"
   ]
  },
  {
   "cell_type": "code",
   "execution_count": 6,
   "metadata": {},
   "outputs": [],
   "source": [
    "def profit(price: Any, quantity: Any, unit_cost: Any, fixed_cost=500, shipping=5) -> float | npt.ArrayLike:\n",
    "    \"\"\" Returns the profit given the price, quantity, and unit cost \"\"\"\n",
    "    return price * quantity - (unit_cost + shipping) * quantity - fixed_cost"
   ]
  },
  {
   "cell_type": "code",
   "execution_count": 7,
   "metadata": {},
   "outputs": [
    {
     "data": {
      "text/html": [
       "<div>\n",
       "<style scoped>\n",
       "    .dataframe tbody tr th:only-of-type {\n",
       "        vertical-align: middle;\n",
       "    }\n",
       "\n",
       "    .dataframe tbody tr th {\n",
       "        vertical-align: top;\n",
       "    }\n",
       "\n",
       "    .dataframe thead th {\n",
       "        text-align: right;\n",
       "    }\n",
       "</style>\n",
       "<table border=\"1\" class=\"dataframe\">\n",
       "  <thead>\n",
       "    <tr style=\"text-align: right;\">\n",
       "      <th></th>\n",
       "      <th>profits</th>\n",
       "    </tr>\n",
       "  </thead>\n",
       "  <tbody>\n",
       "    <tr>\n",
       "      <th>count</th>\n",
       "      <td>1000.000000</td>\n",
       "    </tr>\n",
       "    <tr>\n",
       "      <th>mean</th>\n",
       "      <td>1296.403065</td>\n",
       "    </tr>\n",
       "    <tr>\n",
       "      <th>std</th>\n",
       "      <td>462.123876</td>\n",
       "    </tr>\n",
       "    <tr>\n",
       "      <th>min</th>\n",
       "      <td>132.117486</td>\n",
       "    </tr>\n",
       "    <tr>\n",
       "      <th>25%</th>\n",
       "      <td>948.779885</td>\n",
       "    </tr>\n",
       "    <tr>\n",
       "      <th>50%</th>\n",
       "      <td>1261.180597</td>\n",
       "    </tr>\n",
       "    <tr>\n",
       "      <th>75%</th>\n",
       "      <td>1618.884632</td>\n",
       "    </tr>\n",
       "    <tr>\n",
       "      <th>max</th>\n",
       "      <td>2887.558152</td>\n",
       "    </tr>\n",
       "  </tbody>\n",
       "</table>\n",
       "</div>"
      ],
      "text/plain": [
       "           profits\n",
       "count  1000.000000\n",
       "mean   1296.403065\n",
       "std     462.123876\n",
       "min     132.117486\n",
       "25%     948.779885\n",
       "50%    1261.180597\n",
       "75%    1618.884632\n",
       "max    2887.558152"
      ]
     },
     "execution_count": 7,
     "metadata": {},
     "output_type": "execute_result"
    }
   ],
   "source": [
    "# Question 3.e and f\n",
    "\n",
    "profits = profit(obs_price, obs_quant, obs_unit_cost)\n",
    "\n",
    "pd.DataFrame({'profits': profits}).describe()"
   ]
  },
  {
   "cell_type": "code",
   "execution_count": 8,
   "metadata": {},
   "outputs": [
    {
     "data": {
      "image/png": "[encoded data removed]",
      "text/plain": [
       "<Figure size 640x480 with 1 Axes>"
      ]
     },
     "metadata": {},
     "output_type": "display_data"
    }
   ],
   "source": [
    "# Question 3.g\n",
    "\n",
    "plt.hist(profits, bins=20)\n",
    "plt.xlabel('Profits')\n",
    "plt.ylabel('Frequency')\n",
    "plt.show()"
   ]
  },
  {
   "cell_type": "markdown",
   "metadata": {},
   "source": [
    "The distribution is roughly normal, with a possible minor skew to the right due to the fixed costs."
   ]
  },
  {
   "cell_type": "markdown",
   "metadata": {},
   "source": [
    "### Question 4: Real Data Analysis in Pandas"
   ]
  },
  {
   "cell_type": "code",
   "execution_count": 9,
   "metadata": {},
   "outputs": [
    {
     "data": {
      "text/html": [
       "<div>\n",
       "<style scoped>\n",
       "    .dataframe tbody tr th:only-of-type {\n",
       "        vertical-align: middle;\n",
       "    }\n",
       "\n",
       "    .dataframe tbody tr th {\n",
       "        vertical-align: top;\n",
       "    }\n",
       "\n",
       "    .dataframe thead th {\n",
       "        text-align: right;\n",
       "    }\n",
       "</style>\n",
       "<table border=\"1\" class=\"dataframe\">\n",
       "  <thead>\n",
       "    <tr style=\"text-align: right;\">\n",
       "      <th></th>\n",
       "      <th>congress</th>\n",
       "      <th>chamber</th>\n",
       "      <th>firstname</th>\n",
       "      <th>lastname</th>\n",
       "      <th>birthday</th>\n",
       "      <th>state</th>\n",
       "      <th>party</th>\n",
       "      <th>Incumbent(Dummy)</th>\n",
       "      <th>termstart</th>\n",
       "      <th>age</th>\n",
       "    </tr>\n",
       "  </thead>\n",
       "  <tbody>\n",
       "    <tr>\n",
       "      <th>0</th>\n",
       "      <td>107</td>\n",
       "      <td>house</td>\n",
       "      <td>Benjamin</td>\n",
       "      <td>Gilman</td>\n",
       "      <td>12/6/1922</td>\n",
       "      <td>NY</td>\n",
       "      <td>R</td>\n",
       "      <td>1</td>\n",
       "      <td>1/3/2001</td>\n",
       "      <td>78.1</td>\n",
       "    </tr>\n",
       "    <tr>\n",
       "      <th>1</th>\n",
       "      <td>107</td>\n",
       "      <td>house</td>\n",
       "      <td>Ralph</td>\n",
       "      <td>Hall</td>\n",
       "      <td>5/3/1923</td>\n",
       "      <td>TX</td>\n",
       "      <td>D</td>\n",
       "      <td>1</td>\n",
       "      <td>1/3/2001</td>\n",
       "      <td>77.7</td>\n",
       "    </tr>\n",
       "    <tr>\n",
       "      <th>2</th>\n",
       "      <td>107</td>\n",
       "      <td>house</td>\n",
       "      <td>Henry</td>\n",
       "      <td>Hyde</td>\n",
       "      <td>4/18/1924</td>\n",
       "      <td>IL</td>\n",
       "      <td>R</td>\n",
       "      <td>1</td>\n",
       "      <td>1/3/2001</td>\n",
       "      <td>76.7</td>\n",
       "    </tr>\n",
       "    <tr>\n",
       "      <th>3</th>\n",
       "      <td>107</td>\n",
       "      <td>house</td>\n",
       "      <td>Ralph</td>\n",
       "      <td>Regula</td>\n",
       "      <td>12/3/1924</td>\n",
       "      <td>OH</td>\n",
       "      <td>R</td>\n",
       "      <td>1</td>\n",
       "      <td>1/3/2001</td>\n",
       "      <td>76.1</td>\n",
       "    </tr>\n",
       "    <tr>\n",
       "      <th>4</th>\n",
       "      <td>107</td>\n",
       "      <td>house</td>\n",
       "      <td>Carrie</td>\n",
       "      <td>Meek</td>\n",
       "      <td>4/29/1926</td>\n",
       "      <td>FL</td>\n",
       "      <td>D</td>\n",
       "      <td>1</td>\n",
       "      <td>1/3/2001</td>\n",
       "      <td>74.7</td>\n",
       "    </tr>\n",
       "  </tbody>\n",
       "</table>\n",
       "</div>"
      ],
      "text/plain": [
       "   congress chamber firstname lastname   birthday state party   \n",
       "0       107   house  Benjamin   Gilman  12/6/1922    NY     R  \\\n",
       "1       107   house     Ralph     Hall   5/3/1923    TX     D   \n",
       "2       107   house     Henry     Hyde  4/18/1924    IL     R   \n",
       "3       107   house     Ralph   Regula  12/3/1924    OH     R   \n",
       "4       107   house    Carrie     Meek  4/29/1926    FL     D   \n",
       "\n",
       "   Incumbent(Dummy) termstart   age  \n",
       "0                 1  1/3/2001  78.1  \n",
       "1                 1  1/3/2001  77.7  \n",
       "2                 1  1/3/2001  76.7  \n",
       "3                 1  1/3/2001  76.1  \n",
       "4                 1  1/3/2001  74.7  "
      ]
     },
     "execution_count": 9,
     "metadata": {},
     "output_type": "execute_result"
    }
   ],
   "source": [
    "# Question 4.a\n",
    "\n",
    "# just in case you run the notebooks\n",
    "path = f'{pathlib.Path.cwd().parents[1]}/CSVs/CongressTerms.csv' if 'ethan' in pathlib.Path.cwd().parts else 'CongressTerms.csv'\n",
    "\n",
    "congress = pd.read_csv(path)\n",
    "congress.head()"
   ]
  },
  {
   "cell_type": "code",
   "execution_count": 10,
   "metadata": {},
   "outputs": [
    {
     "name": "stdout",
     "output_type": "stream",
     "text": [
      "There are 3822 observations in the dataset\n",
      "There are 3098 House observations and 724 Senate observations\n"
     ]
    }
   ],
   "source": [
    "# Question 4.b\n",
    "\n",
    "num_obs = len(congress)\n",
    "print(f'There are {num_obs} observations in the dataset')\n",
    "\n",
    "num_house = len(congress[congress['chamber'] == 'house'])\n",
    "print(f'There are {num_house} House observations and {num_obs - num_house} Senate observations')"
   ]
  },
  {
   "cell_type": "code",
   "execution_count": 11,
   "metadata": {},
   "outputs": [
    {
     "data": {
      "text/plain": [
       "58.89903846153846"
      ]
     },
     "execution_count": 11,
     "metadata": {},
     "output_type": "execute_result"
    }
   ],
   "source": [
    "# Question 4.c\n",
    "\n",
    "# mean age of senators in the 107th session of congress\n",
    "congress[(congress['congress'] == 107) & (congress['chamber'] == 'senate')]['age'].mean()"
   ]
  },
  {
   "cell_type": "code",
   "execution_count": 12,
   "metadata": {},
   "outputs": [
    {
     "data": {
      "text/plain": [
       "congress                  107\n",
       "chamber                senate\n",
       "firstname                  J.\n",
       "lastname             Thurmond\n",
       "birthday            12/5/1902\n",
       "state                      SC\n",
       "party                       R\n",
       "Incumbent(Dummy)            1\n",
       "termstart            1/3/2001\n",
       "age                      98.1\n",
       "Name: 442, dtype: object"
      ]
     },
     "execution_count": 12,
     "metadata": {},
     "output_type": "execute_result"
    }
   ],
   "source": [
    "# from congress['ages'] grab the index of max val, then loc to grab the row\n",
    "congress.loc[congress['age'].idxmax()]"
   ]
  },
  {
   "cell_type": "markdown",
   "metadata": {},
   "source": [
    "Question 4.d\n",
    "\n",
    "The value seems reasonable as James Strom Thurmond Sr. lived until he was 100."
   ]
  },
  {
   "cell_type": "code",
   "execution_count": 13,
   "metadata": {},
   "outputs": [
    {
     "data": {
      "text/plain": [
       "firstname\n",
       "John    30\n",
       "Name: count, dtype: int64"
      ]
     },
     "execution_count": 13,
     "metadata": {},
     "output_type": "execute_result"
    }
   ],
   "source": [
    "# Question 4.e\n",
    "\n",
    "# Trying out query as an alternative to double brackets\n",
    "# Talked with Langdon White (CDS Professor) about this, he thinks its easier for beginners to understand\n",
    "congress.query(\"(chamber == 'house') & (congress == 110)\")['firstname'].value_counts().head(1)"
   ]
  }
 ],
 "metadata": {
  "kernelspec": {
   "display_name": "Python 3",
   "language": "python",
   "name": "python3"
  },
  "language_info": {
   "codemirror_mode": {
    "name": "ipython",
    "version": 3
   },
   "file_extension": ".py",
   "mimetype": "text/x-python",
   "name": "python",
   "nbconvert_exporter": "python",
   "pygments_lexer": "ipython3",
   "version": "3.11.1"
  },
  "orig_nbformat": 4
 },
 "nbformat": 4,
 "nbformat_minor": 2
}
